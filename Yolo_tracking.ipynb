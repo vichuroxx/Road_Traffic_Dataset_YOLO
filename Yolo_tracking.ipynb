{
  "nbformat": 4,
  "nbformat_minor": 0,
  "metadata": {
    "colab": {
      "name": "Yolo_tracking.ipynb",
      "provenance": [],
      "collapsed_sections": [],
      "authorship_tag": "ABX9TyO+7wn8WkBhdP8Oa9+j0Wqa",
      "include_colab_link": true
    },
    "kernelspec": {
      "name": "python3",
      "display_name": "Python 3"
    },
    "accelerator": "GPU"
  },
  "cells": [
    {
      "cell_type": "markdown",
      "metadata": {
        "id": "view-in-github",
        "colab_type": "text"
      },
      "source": [
        "<a href=\"https://colab.research.google.com/github/vichuroxx/Vehicle_Dataset_YOLO/blob/master/Yolo_tracking.ipynb\" target=\"_parent\"><img src=\"https://colab.research.google.com/assets/colab-badge.svg\" alt=\"Open In Colab\"/></a>"
      ]
    },
    {
      "cell_type": "markdown",
      "metadata": {
        "id": "TsCY121GaCoy",
        "colab_type": "text"
      },
      "source": [
        "## Yolo V3 - Darknet Installation"
      ]
    },
    {
      "cell_type": "code",
      "metadata": {
        "id": "CZqepBf6TOYo",
        "colab_type": "code",
        "colab": {}
      },
      "source": [
        "from google.colab import drive\n",
        "drive.mount('/content/drive')"
      ],
      "execution_count": 0,
      "outputs": []
    },
    {
      "cell_type": "code",
      "metadata": {
        "id": "b5djAyP-akEN",
        "colab_type": "code",
        "colab": {}
      },
      "source": [
        "!ls\n",
        "!rm -fr darknet\n",
        "!git clone https://github.com/AlexeyAB/darknet/"
      ],
      "execution_count": 0,
      "outputs": []
    },
    {
      "cell_type": "code",
      "metadata": {
        "id": "B6ECXlG4aUSH",
        "colab_type": "code",
        "colab": {}
      },
      "source": [
        "cp drive/'My Drive'/project/data_for_colab.zip /content/darknet"
      ],
      "execution_count": 0,
      "outputs": []
    },
    {
      "cell_type": "code",
      "metadata": {
        "id": "kRK4_MtjbFaZ",
        "colab_type": "code",
        "colab": {}
      },
      "source": [
        "cd darknet"
      ],
      "execution_count": 0,
      "outputs": []
    },
    {
      "cell_type": "code",
      "metadata": {
        "id": "K6Qo4PpsbG2I",
        "colab_type": "code",
        "colab": {}
      },
      "source": [
        "ls"
      ],
      "execution_count": 0,
      "outputs": []
    },
    {
      "cell_type": "code",
      "metadata": {
        "id": "6mNHVum9bIax",
        "colab_type": "code",
        "colab": {}
      },
      "source": [
        "!unzip data_for_colab"
      ],
      "execution_count": 0,
      "outputs": []
    },
    {
      "cell_type": "code",
      "metadata": {
        "id": "62Arr88ebLfi",
        "colab_type": "code",
        "colab": {}
      },
      "source": [
        "#upload train test.txt files\n",
        "from google.colab import files\n",
        "uploaded = files.upload() \n",
        "for name, data in uploaded.items():\n",
        "  with open(name, 'wb') as f:\n",
        "    f.write(data)\n",
        "    print ('saved file', name)"
      ],
      "execution_count": 0,
      "outputs": []
    },
    {
      "cell_type": "code",
      "metadata": {
        "id": "lo2GFwWRbPFN",
        "colab_type": "code",
        "colab": {}
      },
      "source": [
        "!apt-get update\n",
        "!apt-get upgrade"
      ],
      "execution_count": 0,
      "outputs": []
    },
    {
      "cell_type": "code",
      "metadata": {
        "id": "pXdfzpT1bSlJ",
        "colab_type": "code",
        "colab": {}
      },
      "source": [
        "!apt-get install build-essential\n",
        "!apt-get install cmake git libgtk2.0-dev pkg-config libavcodec-dev libavformat-dev libswscale-dev"
      ],
      "execution_count": 0,
      "outputs": []
    },
    {
      "cell_type": "code",
      "metadata": {
        "id": "xE8Rm8m0dHvL",
        "colab_type": "code",
        "colab": {}
      },
      "source": [
        "!apt-get install libavcodec-dev libavformat-dev libswscale-dev"
      ],
      "execution_count": 0,
      "outputs": []
    },
    {
      "cell_type": "code",
      "metadata": {
        "id": "tPuQFR63dJmu",
        "colab_type": "code",
        "colab": {}
      },
      "source": [
        "!apt-get -y install cmake\n",
        "!which cmake\n",
        "\n",
        "!cmake --version"
      ],
      "execution_count": 0,
      "outputs": []
    },
    {
      "cell_type": "code",
      "metadata": {
        "id": "_wAnkXWbdLXQ",
        "colab_type": "code",
        "colab": {}
      },
      "source": [
        "!apt-get install libopencv-dev"
      ],
      "execution_count": 0,
      "outputs": []
    },
    {
      "cell_type": "code",
      "metadata": {
        "id": "xs-8ouURdM-7",
        "colab_type": "code",
        "colab": {}
      },
      "source": [
        "!apt-get install vim"
      ],
      "execution_count": 0,
      "outputs": []
    },
    {
      "cell_type": "code",
      "metadata": {
        "id": "miOOGsEXdPYO",
        "colab_type": "code",
        "colab": {}
      },
      "source": [
        "ls"
      ],
      "execution_count": 0,
      "outputs": []
    },
    {
      "cell_type": "code",
      "metadata": {
        "id": "GuGayL7RdQ_2",
        "colab_type": "code",
        "colab": {}
      },
      "source": [
        "#Now let's get some YOLOv3 weights from the official site\n",
        "!ls\n",
        "!wget https://pjreddie.com/media/files/yolov3.weights"
      ],
      "execution_count": 0,
      "outputs": []
    },
    {
      "cell_type": "code",
      "metadata": {
        "id": "53pc7llTdWCa",
        "colab_type": "code",
        "colab": {}
      },
      "source": [
        "#No here we're modifying the makefile to set OPENCV and GPU to 1\n",
        "!ls\n",
        "!sed -i 's/OPENCV=0/OPENCV=1/g' Makefile\n",
        "!sed -i 's/GPU=0/GPU=1/g' Makefile"
      ],
      "execution_count": 0,
      "outputs": []
    },
    {
      "cell_type": "code",
      "metadata": {
        "id": "iDD2R-JTdXoS",
        "colab_type": "code",
        "colab": {}
      },
      "source": [
        "!ls\n",
        "%cd ../\n",
        "!ls"
      ],
      "execution_count": 0,
      "outputs": []
    },
    {
      "cell_type": "code",
      "metadata": {
        "id": "x4dJV_ISdZhl",
        "colab_type": "code",
        "colab": {}
      },
      "source": [
        "!apt install g++-5\n",
        "!apt install gcc-5\n",
        "\n",
        "!update-alternatives --install /usr/bin/gcc gcc /usr/bin/gcc-5 10\n",
        "!update-alternatives --install /usr/bin/gcc gcc /usr/bin/gcc-5 20\n",
        "!update-alternatives --install /usr/bin/g++ g++ /usr/bin/g++-5 10\n",
        "!update-alternatives --install /usr/bin/g++ g++ /usr/bin/g++-5 20\n",
        "!update-alternatives --install /usr/bin/cc cc /usr/bin/gcc 30\n",
        "!update-alternatives --set cc /usr/bin/gcc\n",
        "!update-alternatives --install /usr/bin/c++ c++ /usr/bin/g++ 30\n",
        "!update-alternatives --set c++ /usr/bin/g++"
      ],
      "execution_count": 0,
      "outputs": []
    },
    {
      "cell_type": "code",
      "metadata": {
        "id": "ECAI7uQcdbWr",
        "colab_type": "code",
        "colab": {}
      },
      "source": [
        "#Now, here's a bunch of code that takes the longest to execute here but\n",
        "#It's about installing CUDA and using the beautiful Tesla K80 GPU, so that\n",
        "#Will worth it\n",
        "\n",
        "!apt update -qq;\n",
        "!wget https://developer.nvidia.com/compute/cuda/8.0/Prod2/local_installers/cuda-repo-ubuntu1604-8-0-local-ga2_8.0.61-1_amd64-deb\n",
        "!dpkg -i cuda-repo-ubuntu1604-8-0-local-ga2_8.0.61-1_amd64-deb\n",
        "!apt-get update -qq\n",
        "\n",
        "#Here were are installing compilers and creating some links\n",
        "!apt-get install cuda -y -qq #gcc-5 g++-5 \n",
        "#!ln -s /usr/bin/gcc-5 /usr/local/cuda/bin/gcc\n",
        "#!ln -s /usr/bin/g++-5 /usr/local/cuda/bin/g++\n",
        "!apt update\n",
        "!apt upgrade\n",
        "!apt install cuda-8.0 -y"
      ],
      "execution_count": 0,
      "outputs": []
    },
    {
      "cell_type": "code",
      "metadata": {
        "id": "UJ4O7hJ_d_2d",
        "colab_type": "code",
        "colab": {}
      },
      "source": [
        "#Now let's see whether the GPU is here and CUDA was successfully installed!\n",
        "import tensorflow as tf\n",
        "device_name = tf.test.gpu_device_name()\n",
        "print(device_name)\n",
        "\n",
        "print(\"'sup!'\")\n",
        "\n",
        "!/usr/local/cuda/bin/nvcc --version"
      ],
      "execution_count": 0,
      "outputs": []
    },
    {
      "cell_type": "code",
      "metadata": {
        "id": "Jhsgor4nsQgV",
        "colab_type": "code",
        "colab": {}
      },
      "source": [
        "ls"
      ],
      "execution_count": 0,
      "outputs": []
    },
    {
      "cell_type": "code",
      "metadata": {
        "id": "I7WA4DuGsUhK",
        "colab_type": "code",
        "colab": {}
      },
      "source": [
        "%cd darknet\n",
        "!make"
      ],
      "execution_count": 0,
      "outputs": []
    },
    {
      "cell_type": "code",
      "metadata": {
        "id": "s-6u1p8Q2Cch",
        "colab_type": "code",
        "colab": {}
      },
      "source": [
        "#Now let's get some YOLOv3 weights from the official site\n",
        "!ls\n",
        "!wget https://pjreddie.com/media/files/yolov3.weights"
      ],
      "execution_count": 0,
      "outputs": []
    },
    {
      "cell_type": "code",
      "metadata": {
        "id": "8rGVTZs9ssP0",
        "colab_type": "code",
        "colab": {}
      },
      "source": [
        "!ls\n",
        "#Now, let's see if everything works by running it on a test image\n",
        "!./darknet detect cfg/yolov3.cfg yolov3.weights data/person.jpg"
      ],
      "execution_count": 0,
      "outputs": []
    },
    {
      "cell_type": "code",
      "metadata": {
        "id": "DoUr7oFhszhz",
        "colab_type": "code",
        "colab": {}
      },
      "source": [
        "#Let's define some functions that will let us show images, and upload and \n",
        "#download files\n",
        "def imShow(path):\n",
        "  import cv2\n",
        "  import matplotlib.pyplot as plt\n",
        "  %matplotlib inline\n",
        "\n",
        "  image = cv2.imread(path)\n",
        "  height, width = image.shape[:2]\n",
        "  resized_image = cv2.resize(image,(3*width, 3*height), interpolation = cv2.INTER_CUBIC)\n",
        "\n",
        "  fig = plt.gcf()\n",
        "  fig.set_size_inches(18, 10)\n",
        "  plt.axis(\"off\")\n",
        "  #plt.rcParams['figure.figsize'] = [10, 5]\n",
        "  plt.imshow(cv2.cvtColor(resized_image, cv2.COLOR_BGR2RGB))\n",
        "  plt.show()\n",
        "  \n",
        "  \n",
        "def upload():\n",
        "  from google.colab import files\n",
        "  uploaded = files.upload() \n",
        "  for name, data in uploaded.items():\n",
        "    with open(name, 'wb') as f:\n",
        "      f.write(data)\n",
        "      print ('saved file', name)\n",
        "def download(path):\n",
        "  from google.colab import files\n",
        "  files.download(path)"
      ],
      "execution_count": 0,
      "outputs": []
    },
    {
      "cell_type": "code",
      "metadata": {
        "id": "x7ZYL64DtApr",
        "colab_type": "code",
        "colab": {}
      },
      "source": [
        "imShow('predictions.jpg')"
      ],
      "execution_count": 0,
      "outputs": []
    },
    {
      "cell_type": "code",
      "metadata": {
        "id": "LOtYwjz_tGL1",
        "colab_type": "code",
        "colab": {}
      },
      "source": [
        "ls"
      ],
      "execution_count": 0,
      "outputs": []
    },
    {
      "cell_type": "code",
      "metadata": {
        "id": "J1d1hA9929FB",
        "colab_type": "code",
        "colab": {}
      },
      "source": [
        "#Now let's get some YOLOv3 weights from the official site\n",
        "%cd data_for_colab\n",
        "!ls\n",
        "!wget https://pjreddie.com/media/files/darknet53.conv.74"
      ],
      "execution_count": 0,
      "outputs": []
    },
    {
      "cell_type": "code",
      "metadata": {
        "id": "GmNSh7ep3tfa",
        "colab_type": "code",
        "colab": {}
      },
      "source": [
        "%cd ../  \n"
      ],
      "execution_count": 0,
      "outputs": []
    },
    {
      "cell_type": "code",
      "metadata": {
        "id": "wIMMM0bitJUm",
        "colab_type": "code",
        "colab": {}
      },
      "source": [
        "!./darknet detector train data_for_colab/obj.data data_for_colab/yolov3_Custom_AlexAb.cfg data_for_colab/darknet53.conv.74 -dont_show"
      ],
      "execution_count": 0,
      "outputs": []
    },
    {
      "cell_type": "code",
      "metadata": {
        "id": "dYTw_QSwrYm7",
        "colab_type": "code",
        "colab": {}
      },
      "source": [
        "#Start training at the point where the last runtime finished\n",
        "%ls\n",
        "!./darknet detector train data_for_colab/obj.data data_for_colab/yolov3_Custom_AlexAb.cfg /content/drive/'My Drive'/project/backup/yolov3_Custom_AlexAb_last.weights -dont_show "
      ],
      "execution_count": 0,
      "outputs": []
    },
    {
      "cell_type": "code",
      "metadata": {
        "id": "pegoVTe7uWgY",
        "colab_type": "code",
        "colab": {}
      },
      "source": [
        "#copy yolo weight to drive as backup\n",
        "\n",
        "!rm /content/darknet/backup -r\n",
        "!ln -s /content/drive/'My Drive'/project/backup /content/darknet"
      ],
      "execution_count": 0,
      "outputs": []
    },
    {
      "cell_type": "code",
      "metadata": {
        "id": "nZ7o5LWxvnCd",
        "colab_type": "code",
        "colab": {}
      },
      "source": [
        "#upload a test image to check if working\n",
        "from google.colab import files\n",
        "uploaded = files.upload() \n",
        "for name, data in uploaded.items():\n",
        "  with open(name, 'wb') as f:\n",
        "    f.write(data)\n",
        "    print ('saved file', name)"
      ],
      "execution_count": 0,
      "outputs": []
    },
    {
      "cell_type": "code",
      "metadata": {
        "id": "uviBmAgwvxyK",
        "colab_type": "code",
        "colab": {}
      },
      "source": [
        "!./darknet detector test data_for_colab/obj.data data_for_colab/yolov3_Custom_AlexAb.cfg backup/yolov3_Custom_AlexAb_1000.weights 0.jpg -i 0 -thresh 0.5"
      ],
      "execution_count": 0,
      "outputs": []
    },
    {
      "cell_type": "code",
      "metadata": {
        "id": "gUcWxNYYwNQ-",
        "colab_type": "code",
        "colab": {}
      },
      "source": [
        "imShow('predictions.jpg')\n"
      ],
      "execution_count": 0,
      "outputs": []
    },
    {
      "cell_type": "code",
      "metadata": {
        "id": "SAwV_jiJwPe6",
        "colab_type": "code",
        "colab": {}
      },
      "source": [
        "cd ../"
      ],
      "execution_count": 0,
      "outputs": []
    },
    {
      "cell_type": "code",
      "metadata": {
        "id": "RTbrHwlxwSCW",
        "colab_type": "code",
        "colab": {}
      },
      "source": [
        "cp /content/drive/'My Drive'/project/dataacci.mp4 /content/darknet"
      ],
      "execution_count": 0,
      "outputs": []
    },
    {
      "cell_type": "code",
      "metadata": {
        "id": "nQNYCKKEwTFg",
        "colab_type": "code",
        "colab": {}
      },
      "source": [
        "cd darknet"
      ],
      "execution_count": 0,
      "outputs": []
    },
    {
      "cell_type": "code",
      "metadata": {
        "id": "cR0DMiZ0wUNN",
        "colab_type": "code",
        "colab": {}
      },
      "source": [
        "ls"
      ],
      "execution_count": 0,
      "outputs": []
    },
    {
      "cell_type": "code",
      "metadata": {
        "id": "i-3l8VA6wUsB",
        "colab_type": "code",
        "colab": {}
      },
      "source": [
        "!./darknet detector demo data_for_colab/obj.data data_for_colab/yolov3_Custom_AlexAb.cfg backup/yolov3_Custom_AlexAb_1000.weights  -dont_show dataacci.mp4 -i 0 -out_filename backup/veout.avi"
      ],
      "execution_count": 0,
      "outputs": []
    },
    {
      "cell_type": "code",
      "metadata": {
        "id": "Tao9xPPWwXRG",
        "colab_type": "code",
        "colab": {}
      },
      "source": [
        "download('veout.avi') "
      ],
      "execution_count": 0,
      "outputs": []
    }
  ]
}